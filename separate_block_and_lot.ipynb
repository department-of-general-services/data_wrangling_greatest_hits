{
 "cells": [
  {
   "cell_type": "markdown",
   "metadata": {},
   "source": [
    "# Separate `block_lot` into `block` and `lot`\n",
    "Here's a typical problem that can face an analyst working for a Baltimore City agency. Let's say we're interested in analyzing buildings at the block level only, but we recieve the data with block and lot combined into just a single column. \n",
    "\n",
    "If the block was always the first `n` characters, then it would be easy enough to break the two columns apart in traditional spreadsheet software such as Excel. But the block can be the first three, four, or five characters, depending on various conditions. And the lot can be either the last three or four characters, again depending on characteristics of the block-lot value. \n",
    "\n",
    "Python turns out to be a great tool for solving this problem, in just a few lines of code. "
   ]
  },
  {
   "cell_type": "markdown",
   "metadata": {},
   "source": [
    "### Import libraries\n",
    "In this case, Pandas and the pathlib library are all we need."
   ]
  },
  {
   "cell_type": "code",
   "execution_count": 1,
   "metadata": {
    "colab": {},
    "colab_type": "code",
    "id": "W-qP6dIg--Pz"
   },
   "outputs": [],
   "source": [
    "import pandas as pd\n",
    "from pathlib import Path"
   ]
  },
  {
   "cell_type": "markdown",
   "metadata": {},
   "source": [
    "### Inspect the `block_lot` column\n",
    "Consider the output below: \n",
    "\n",
    "- In row 0, the block is the first four digits, and the lot is the remainder.\n",
    "- In row 1, the block is the first three digits, and the lot is the remainder. \n",
    "- In row 2, the block is the first five digits, and the lot is the remainder. \n",
    "\n",
    "We'll need to develop logic that accurately recognizes all of these possible configurations and accurately separates the block from the lot in each."
   ]
  },
  {
   "cell_type": "code",
   "execution_count": 11,
   "metadata": {
    "colab": {
     "base_uri": "https://localhost:8080/",
     "height": 85
    },
    "colab_type": "code",
    "id": "KyLd4wfn-_7B",
    "outputId": "8ba00659-6c9f-46b0-a865-f9c74f7f8680"
   },
   "outputs": [
    {
     "data": {
      "text/html": [
       "<div>\n",
       "<style scoped>\n",
       "    .dataframe tbody tr th:only-of-type {\n",
       "        vertical-align: middle;\n",
       "    }\n",
       "\n",
       "    .dataframe tbody tr th {\n",
       "        vertical-align: top;\n",
       "    }\n",
       "\n",
       "    .dataframe thead th {\n",
       "        text-align: right;\n",
       "    }\n",
       "</style>\n",
       "<table border=\"1\" class=\"dataframe\">\n",
       "  <thead>\n",
       "    <tr style=\"text-align: right;\">\n",
       "      <th></th>\n",
       "      <th>bl_id</th>\n",
       "      <th>block_lot</th>\n",
       "    </tr>\n",
       "  </thead>\n",
       "  <tbody>\n",
       "    <tr>\n",
       "      <th>0</th>\n",
       "      <td>B00005</td>\n",
       "      <td>1255001</td>\n",
       "    </tr>\n",
       "    <tr>\n",
       "      <th>1</th>\n",
       "      <td>B00011</td>\n",
       "      <td>644001</td>\n",
       "    </tr>\n",
       "    <tr>\n",
       "      <th>2</th>\n",
       "      <td>B00016</td>\n",
       "      <td>4543B027</td>\n",
       "    </tr>\n",
       "    <tr>\n",
       "      <th>3</th>\n",
       "      <td>B00022</td>\n",
       "      <td>1255002</td>\n",
       "    </tr>\n",
       "    <tr>\n",
       "      <th>4</th>\n",
       "      <td>B00023</td>\n",
       "      <td>1334001</td>\n",
       "    </tr>\n",
       "    <tr>\n",
       "      <th>5</th>\n",
       "      <td>B00025</td>\n",
       "      <td>5387002A</td>\n",
       "    </tr>\n",
       "  </tbody>\n",
       "</table>\n",
       "</div>"
      ],
      "text/plain": [
       "    bl_id block_lot\n",
       "0  B00005   1255001\n",
       "1  B00011    644001\n",
       "2  B00016  4543B027\n",
       "3  B00022   1255002\n",
       "4  B00023   1334001\n",
       "5  B00025  5387002A"
      ]
     },
     "execution_count": 11,
     "metadata": {},
     "output_type": "execute_result"
    }
   ],
   "source": [
    "buildings_path = Path.cwd() / 'data' / 'buildings.csv'\n",
    "buildings = pd.read_csv(buildings_path)\n",
    "buildings[['bl_id', 'block_lot']].head(6)"
   ]
  },
  {
   "cell_type": "markdown",
   "metadata": {},
   "source": [
    "### Define a function we'll apply to each row\n",
    "The function below uses the structure of the block-lot data to define a series of \"if-then\" statements that allow us to accurately break the string down into independent block and lot columns. \n",
    "\n",
    "Perhaps the trickiest part of this function is that it returns both the block and the lot, stored together in a tuple. Keep that in mind for the next step."
   ]
  },
  {
   "cell_type": "code",
   "execution_count": 18,
   "metadata": {
    "colab": {},
    "colab_type": "code",
    "id": "vv3VMpeMfXLD"
   },
   "outputs": [],
   "source": [
    "def split_block_lot(blocklot):\n",
    "    \"\"\"\n",
    "    Separates out block data from block and lot \n",
    "    \n",
    "    Args:\n",
    "        blocklot (str): The original block and lot data from the file\n",
    "\n",
    "    Returns:\n",
    "        [block, lot] (str): A list with the block and lot stored separately as strings\n",
    "    \"\"\"\n",
    "    if len(blocklot) == 6:                  # if the string is only six characters long,\n",
    "        return [blocklot[:3], blocklot[3:]] # take only the first three chars.\n",
    "    elif blocklot[4].isalpha():             # but if the fifth char is a letter,\n",
    "        return [blocklot[:5], blocklot[5:]] # then we take the first five chars.\n",
    "    else:\n",
    "        return [blocklot[:4], blocklot[4:]] # otherwise take the first four chars."
   ]
  },
  {
   "cell_type": "markdown",
   "metadata": {},
   "source": [
    "### Apply the function to each row\n",
    "Here we use the `apply()` method of a Pandas dataframe to apply the `split_block_lot()` function to every row of the `buildings` table. This function has a useful paramaeter, `result_type`, which splits list-like data across multiple columns. In this case, that's exactly what we're after, and this parameter allows us to do this action in a single step, instead of assigning the `block` and `lot` in two separate actions. "
   ]
  },
  {
   "cell_type": "code",
   "execution_count": 20,
   "metadata": {
    "colab": {
     "base_uri": "https://localhost:8080/",
     "height": 669
    },
    "colab_type": "code",
    "id": "_ZGNfGsPLvaN",
    "outputId": "df1fa205-a79b-4ea1-9332-36b515f4e185"
   },
   "outputs": [
    {
     "data": {
      "text/html": [
       "<div>\n",
       "<style scoped>\n",
       "    .dataframe tbody tr th:only-of-type {\n",
       "        vertical-align: middle;\n",
       "    }\n",
       "\n",
       "    .dataframe tbody tr th {\n",
       "        vertical-align: top;\n",
       "    }\n",
       "\n",
       "    .dataframe thead th {\n",
       "        text-align: right;\n",
       "    }\n",
       "</style>\n",
       "<table border=\"1\" class=\"dataframe\">\n",
       "  <thead>\n",
       "    <tr style=\"text-align: right;\">\n",
       "      <th></th>\n",
       "      <th>block_lot</th>\n",
       "      <th>block</th>\n",
       "      <th>lot</th>\n",
       "    </tr>\n",
       "  </thead>\n",
       "  <tbody>\n",
       "    <tr>\n",
       "      <th>0</th>\n",
       "      <td>1255001</td>\n",
       "      <td>1255</td>\n",
       "      <td>001</td>\n",
       "    </tr>\n",
       "    <tr>\n",
       "      <th>1</th>\n",
       "      <td>644001</td>\n",
       "      <td>644</td>\n",
       "      <td>001</td>\n",
       "    </tr>\n",
       "    <tr>\n",
       "      <th>2</th>\n",
       "      <td>4543B027</td>\n",
       "      <td>4543B</td>\n",
       "      <td>027</td>\n",
       "    </tr>\n",
       "    <tr>\n",
       "      <th>3</th>\n",
       "      <td>1255002</td>\n",
       "      <td>1255</td>\n",
       "      <td>002</td>\n",
       "    </tr>\n",
       "    <tr>\n",
       "      <th>4</th>\n",
       "      <td>1334001</td>\n",
       "      <td>1334</td>\n",
       "      <td>001</td>\n",
       "    </tr>\n",
       "    <tr>\n",
       "      <th>5</th>\n",
       "      <td>5387002A</td>\n",
       "      <td>5387</td>\n",
       "      <td>002A</td>\n",
       "    </tr>\n",
       "    <tr>\n",
       "      <th>6</th>\n",
       "      <td>4543B027</td>\n",
       "      <td>4543B</td>\n",
       "      <td>027</td>\n",
       "    </tr>\n",
       "    <tr>\n",
       "      <th>7</th>\n",
       "      <td>7610011</td>\n",
       "      <td>7610</td>\n",
       "      <td>011</td>\n",
       "    </tr>\n",
       "    <tr>\n",
       "      <th>8</th>\n",
       "      <td>6332009</td>\n",
       "      <td>6332</td>\n",
       "      <td>009</td>\n",
       "    </tr>\n",
       "    <tr>\n",
       "      <th>9</th>\n",
       "      <td>2132020</td>\n",
       "      <td>2132</td>\n",
       "      <td>020</td>\n",
       "    </tr>\n",
       "  </tbody>\n",
       "</table>\n",
       "</div>"
      ],
      "text/plain": [
       "  block_lot  block   lot\n",
       "0   1255001   1255   001\n",
       "1    644001    644   001\n",
       "2  4543B027  4543B   027\n",
       "3   1255002   1255   002\n",
       "4   1334001   1334   001\n",
       "5  5387002A   5387  002A\n",
       "6  4543B027  4543B   027\n",
       "7   7610011   7610   011\n",
       "8   6332009   6332   009\n",
       "9   2132020   2132   020"
      ]
     },
     "execution_count": 20,
     "metadata": {},
     "output_type": "execute_result"
    }
   ],
   "source": [
    "buildings[['block', 'lot']] = buildings.apply(lambda x: split_block_lot(x['block_lot']), \n",
    "                                              axis=1, \n",
    "                                              result_type='expand') \n",
    "\n",
    "buildings[['block_lot', 'block', 'lot']].head(10)"
   ]
  }
 ],
 "metadata": {
  "colab": {
   "name": "separate_block_and_lot.ipynb",
   "provenance": []
  },
  "kernelspec": {
   "display_name": "Python 3",
   "language": "python",
   "name": "python3"
  },
  "language_info": {
   "codemirror_mode": {
    "name": "ipython",
    "version": 3
   },
   "file_extension": ".py",
   "mimetype": "text/x-python",
   "name": "python",
   "nbconvert_exporter": "python",
   "pygments_lexer": "ipython3",
   "version": "3.6.10"
  }
 },
 "nbformat": 4,
 "nbformat_minor": 1
}
