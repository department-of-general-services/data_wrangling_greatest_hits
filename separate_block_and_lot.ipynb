{
 "cells": [
  {
   "cell_type": "markdown",
   "metadata": {},
   "source": [
    "# Separate block_lot into block and lot\n",
    "Here's a typical problem that can face an analyst working for a Baltimore City agency. Let's say we're interested in analyzing buildings at the block level, but we recieve the data with block and lot combined into just one column. \n",
    "\n",
    "If the block was always the first `n` characters, then it would be easy enough to break the two columns apart in Excel. But the block can be the first three, four, or five characters, depending on various conditions. And the lot can be either the last three or four characters, depending on the conditions. \n",
    "\n",
    "Python turns out to be a great tool for solving this problem, in just a few lines of code. "
   ]
  },
  {
   "cell_type": "markdown",
   "metadata": {},
   "source": [
    "### Import libraries\n",
    "In this case, Pandas is all we need."
   ]
  },
  {
   "cell_type": "code",
   "execution_count": 1,
   "metadata": {
    "colab": {},
    "colab_type": "code",
    "id": "W-qP6dIg--Pz"
   },
   "outputs": [],
   "source": [
    "import pandas as pd\n",
    "from pathlib import Path"
   ]
  },
  {
   "cell_type": "markdown",
   "metadata": {},
   "source": [
    "### Inspect the `block_lot` column\n",
    "Consider the output below: \n",
    "\n",
    "- In row 0, the block is the first four digits.\n",
    "- In row 1, the block is the first three digits. \n",
    "- In row 2, the block is the first five digits. \n",
    "\n",
    "We'll need to develop logic that accurately captures all of these possibilities."
   ]
  },
  {
   "cell_type": "code",
   "execution_count": 8,
   "metadata": {
    "colab": {
     "base_uri": "https://localhost:8080/",
     "height": 85
    },
    "colab_type": "code",
    "id": "KyLd4wfn-_7B",
    "outputId": "8ba00659-6c9f-46b0-a865-f9c74f7f8680"
   },
   "outputs": [
    {
     "data": {
      "text/html": [
       "<div>\n",
       "<style scoped>\n",
       "    .dataframe tbody tr th:only-of-type {\n",
       "        vertical-align: middle;\n",
       "    }\n",
       "\n",
       "    .dataframe tbody tr th {\n",
       "        vertical-align: top;\n",
       "    }\n",
       "\n",
       "    .dataframe thead th {\n",
       "        text-align: right;\n",
       "    }\n",
       "</style>\n",
       "<table border=\"1\" class=\"dataframe\">\n",
       "  <thead>\n",
       "    <tr style=\"text-align: right;\">\n",
       "      <th></th>\n",
       "      <th>bl_id</th>\n",
       "      <th>block_lot</th>\n",
       "    </tr>\n",
       "  </thead>\n",
       "  <tbody>\n",
       "    <tr>\n",
       "      <th>0</th>\n",
       "      <td>B00005</td>\n",
       "      <td>1255001</td>\n",
       "    </tr>\n",
       "    <tr>\n",
       "      <th>1</th>\n",
       "      <td>B00011</td>\n",
       "      <td>644001</td>\n",
       "    </tr>\n",
       "    <tr>\n",
       "      <th>2</th>\n",
       "      <td>B00016</td>\n",
       "      <td>4543B027</td>\n",
       "    </tr>\n",
       "    <tr>\n",
       "      <th>3</th>\n",
       "      <td>B00022</td>\n",
       "      <td>1255002</td>\n",
       "    </tr>\n",
       "    <tr>\n",
       "      <th>4</th>\n",
       "      <td>B00023</td>\n",
       "      <td>1334001</td>\n",
       "    </tr>\n",
       "    <tr>\n",
       "      <th>5</th>\n",
       "      <td>B00025</td>\n",
       "      <td>5387002A</td>\n",
       "    </tr>\n",
       "  </tbody>\n",
       "</table>\n",
       "</div>"
      ],
      "text/plain": [
       "    bl_id block_lot\n",
       "0  B00005   1255001\n",
       "1  B00011    644001\n",
       "2  B00016  4543B027\n",
       "3  B00022   1255002\n",
       "4  B00023   1334001\n",
       "5  B00025  5387002A"
      ]
     },
     "execution_count": 8,
     "metadata": {},
     "output_type": "execute_result"
    }
   ],
   "source": [
    "buildings_path = Path.cwd() / 'data' / 'buildings.csv'\n",
    "buildings = pd.read_csv(buildings_path)\n",
    "buildings[['bl_id', 'block_lot']].head(6)"
   ]
  },
  {
   "cell_type": "markdown",
   "metadata": {},
   "source": [
    "### Define functions\n",
    "The two functions below both use the structure of the block-lot data to define a series of \"if-then\" statements that allow us to accurately break the string down into independent block and lot columns. "
   ]
  },
  {
   "cell_type": "code",
   "execution_count": 3,
   "metadata": {
    "colab": {},
    "colab_type": "code",
    "id": "vv3VMpeMfXLD"
   },
   "outputs": [],
   "source": [
    "def get_block_code(blocklot):\n",
    "    \"\"\"\n",
    "    Separates out block data from block and lot \n",
    "    \n",
    "    Args:\n",
    "        blocklot (str): The original block and lot data from the file\n",
    "\n",
    "    Returns:\n",
    "        block (str): The block-level information only \n",
    "    \"\"\"\n",
    "    if len(blocklot) == 6:         # if the string is only six characters long,\n",
    "        return blocklot[:3]        # take only the first three chars.\n",
    "    elif blocklot[4].isalpha():    # but if the fifth char is a letter,\n",
    "        return blocklot[:5]        # then we take the first five chars.\n",
    "    else:\n",
    "        return blocklot[:4]        # otherwise take the first four chars.\n",
    "\n",
    "\n",
    "def get_lot_code(blocklot):\n",
    "  if blocklot[-1].isalpha():   # if the last character is a letter,\n",
    "    return blocklot[-4:]       # take the last four chars.\n",
    "  else:\n",
    "    return blocklot[-3:]       # otherwise take the last three."
   ]
  },
  {
   "cell_type": "code",
   "execution_count": 6,
   "metadata": {
    "colab": {
     "base_uri": "https://localhost:8080/",
     "height": 669
    },
    "colab_type": "code",
    "id": "_ZGNfGsPLvaN",
    "outputId": "df1fa205-a79b-4ea1-9332-36b515f4e185"
   },
   "outputs": [
    {
     "data": {
      "text/html": [
       "<div>\n",
       "<style scoped>\n",
       "    .dataframe tbody tr th:only-of-type {\n",
       "        vertical-align: middle;\n",
       "    }\n",
       "\n",
       "    .dataframe tbody tr th {\n",
       "        vertical-align: top;\n",
       "    }\n",
       "\n",
       "    .dataframe thead th {\n",
       "        text-align: right;\n",
       "    }\n",
       "</style>\n",
       "<table border=\"1\" class=\"dataframe\">\n",
       "  <thead>\n",
       "    <tr style=\"text-align: right;\">\n",
       "      <th></th>\n",
       "      <th>block_lot</th>\n",
       "      <th>block</th>\n",
       "      <th>lot</th>\n",
       "    </tr>\n",
       "  </thead>\n",
       "  <tbody>\n",
       "    <tr>\n",
       "      <th>0</th>\n",
       "      <td>1255001</td>\n",
       "      <td>1255</td>\n",
       "      <td>001</td>\n",
       "    </tr>\n",
       "    <tr>\n",
       "      <th>1</th>\n",
       "      <td>644001</td>\n",
       "      <td>644</td>\n",
       "      <td>001</td>\n",
       "    </tr>\n",
       "    <tr>\n",
       "      <th>2</th>\n",
       "      <td>4543B027</td>\n",
       "      <td>4543B</td>\n",
       "      <td>027</td>\n",
       "    </tr>\n",
       "    <tr>\n",
       "      <th>3</th>\n",
       "      <td>1255002</td>\n",
       "      <td>1255</td>\n",
       "      <td>002</td>\n",
       "    </tr>\n",
       "    <tr>\n",
       "      <th>4</th>\n",
       "      <td>1334001</td>\n",
       "      <td>1334</td>\n",
       "      <td>001</td>\n",
       "    </tr>\n",
       "  </tbody>\n",
       "</table>\n",
       "</div>"
      ],
      "text/plain": [
       "  block_lot  block  lot\n",
       "0   1255001   1255  001\n",
       "1    644001    644  001\n",
       "2  4543B027  4543B  027\n",
       "3   1255002   1255  002\n",
       "4   1334001   1334  001"
      ]
     },
     "execution_count": 6,
     "metadata": {},
     "output_type": "execute_result"
    }
   ],
   "source": [
    "buildings['block'] = buildings.apply(lambda x: get_block_code(x['block_lot']), axis=1) \n",
    "buildings['lot'] = buildings.apply(lambda x: get_lot_code(x['block_lot']), axis=1) \n",
    "\n",
    "buildings[['block_lot', 'block', 'lot']].head()"
   ]
  },
  {
   "cell_type": "code",
   "execution_count": null,
   "metadata": {
    "colab": {},
    "colab_type": "code",
    "id": "t9IZidxPd3_m"
   },
   "outputs": [],
   "source": [
    "# buildings.drop('Block Lot', inplace=True, axis=1)\n",
    "# buildings.to_csv('buildings_sep.csv', index=False)"
   ]
  }
 ],
 "metadata": {
  "colab": {
   "name": "separate_block_and_lot.ipynb",
   "provenance": []
  },
  "kernelspec": {
   "display_name": "Python 3",
   "language": "python",
   "name": "python3"
  },
  "language_info": {
   "codemirror_mode": {
    "name": "ipython",
    "version": 3
   },
   "file_extension": ".py",
   "mimetype": "text/x-python",
   "name": "python",
   "nbconvert_exporter": "python",
   "pygments_lexer": "ipython3",
   "version": "3.6.10"
  }
 },
 "nbformat": 4,
 "nbformat_minor": 1
}
